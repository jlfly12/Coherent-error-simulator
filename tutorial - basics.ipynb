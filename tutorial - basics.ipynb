{
 "cells": [
  {
   "cell_type": "code",
   "execution_count": 1,
   "metadata": {},
   "outputs": [
    {
     "name": "stdout",
     "output_type": "stream",
     "text": [
      "[ 5.00000000e-01+5.00000000e-01j  0.00000000e+00+0.00000000e+00j\n",
      " -2.77555756e-17-2.77555756e-17j  0.00000000e+00+0.00000000e+00j\n",
      "  1.11022302e-16-5.55111512e-17j  0.00000000e+00+0.00000000e+00j\n",
      "  5.00000000e-01+5.00000000e-01j  0.00000000e+00+0.00000000e+00j]\n"
     ]
    }
   ],
   "source": [
    "# Welcome to QRSim Tutorial! (This is still work in progress)\n",
    "# You're welcome to send questions to pl152@duke.edu\n",
    "\n",
    "from Circuit import Circuit\n",
    "from numpy import *\n",
    "\n",
    "# Construct circuit with 3 qubits (you'll see performance issues for large N!)\n",
    "circ = Circuit(3);\n",
    "\n",
    "# Superpose 1st qubit\n",
    "circ.Y(0, pi/2)\n",
    "\n",
    "# Apply CNOT to 1st and 2nd qubit\n",
    "circ.Y(0, pi/2).XX(0,1, pi/2).X(0,-pi/2).X(1,-pi/2).Y(0, -pi/2)\n",
    "\n",
    "# Compute and print final state\n",
    "ideal_state = circ.compute()[0]\n",
    "print(ideal_state)"
   ]
  },
  {
   "cell_type": "code",
   "execution_count": 2,
   "metadata": {},
   "outputs": [
    {
     "data": {
      "image/png": "[encoded data removed]",
      "text/plain": [
       "<Figure size 432x288 with 1 Axes>"
      ]
     },
     "metadata": {
      "needs_background": "light"
     },
     "output_type": "display_data"
    }
   ],
   "source": [
    "# Plot state probabilities\n",
    "from Circuit_ops import state_prob_plot\n",
    "state_prob_plot(ideal_state)"
   ]
  },
  {
   "cell_type": "code",
   "execution_count": 3,
   "metadata": {},
   "outputs": [
    {
     "data": {
      "text/plain": [
       "[[['S_phi'],\n",
       "  [0],\n",
       "  [array([1.57079633, 1.57079633])],\n",
       "  [array([1.57079633, 1.57079633])]],\n",
       " [['S_phi'],\n",
       "  [0],\n",
       "  [array([1.57079633, 1.57079633])],\n",
       "  [array([1.57079633, 1.57079633])]],\n",
       " [['S_phi', 'S_phi'],\n",
       "  [0, 1],\n",
       "  [array([1.57079633, 1.57079633])],\n",
       "  [array([0., 0.]), array([0., 0.])]],\n",
       " [['S_phi'], [0], [array([-1.57079633, -1.57079633])], [array([0., 0.])]],\n",
       " [['S_phi'], [1], [array([-1.57079633, -1.57079633])], [array([0., 0.])]],\n",
       " [['S_phi'],\n",
       "  [0],\n",
       "  [array([-1.57079633, -1.57079633])],\n",
       "  [array([1.57079633, 1.57079633])]]]"
      ]
     },
     "execution_count": 3,
     "metadata": {},
     "output_type": "execute_result"
    }
   ],
   "source": [
    "# Add errors to gates\n",
    "\n",
    "# Generate noisy_gates\n",
    "circ.compute()\n",
    "\n",
    "# Output noisy native gates ([gate type, qubits involved, gate angle, gate axis])\n",
    "circ.noisy_gates"
   ]
  },
  {
   "cell_type": "code",
   "execution_count": 4,
   "metadata": {},
   "outputs": [
    {
     "data": {
      "image/png": "[encoded data removed]",
      "text/plain": [
       "<Figure size 432x288 with 1 Axes>"
      ]
     },
     "metadata": {
      "needs_background": "light"
     },
     "output_type": "display_data"
    }
   ],
   "source": [
    "# Add 30% over-rotation error to 3rd gate (XX gate)\n",
    "err = 0.3\n",
    "for j in range(circ.runs):\n",
    "    circ.noisy_gates[2][2][0][j] *= 1 + err \n",
    "\n",
    "# Recompute final state\n",
    "final_state1 = circ.compute(compile_gates=False)[0]  \n",
    "state_prob_plot(final_state1)"
   ]
  },
  {
   "cell_type": "code",
   "execution_count": 5,
   "metadata": {},
   "outputs": [
    {
     "data": {
      "image/png": "[encoded data removed]",
      "text/plain": [
       "<Figure size 432x288 with 1 Axes>"
      ]
     },
     "metadata": {
      "needs_background": "light"
     },
     "output_type": "display_data"
    }
   ],
   "source": [
    "# Add phase error (-0.2 radians) to 4th gate\n",
    "err = -0.2\n",
    "for j in range(circ.runs):\n",
    "    circ.noisy_gates[4][2][0][j] += err\n",
    "\n",
    "# Recompute final state\n",
    "final_state2 = circ.compute(compile_gates=False)[0]  \n",
    "state_prob_plot(final_state2)\n"
   ]
  },
  {
   "cell_type": "code",
   "execution_count": 6,
   "metadata": {},
   "outputs": [
    {
     "data": {
      "text/plain": [
       "array([0.94550326, 0.9360797 ])"
      ]
     },
     "execution_count": 6,
     "metadata": {},
     "output_type": "execute_result"
    }
   ],
   "source": [
    "# Find fidelity\n",
    "from Circuit_ops import find_fidelities\n",
    "\n",
    "final_states = array([final_state1, final_state2])\n",
    "find_fidelities(final_states, ideal_state)"
   ]
  },
  {
   "cell_type": "code",
   "execution_count": 7,
   "metadata": {},
   "outputs": [],
   "source": [
    "# Good luck"
   ]
  }
 ],
 "metadata": {
  "kernelspec": {
   "display_name": "Python 3",
   "language": "python",
   "name": "python3"
  },
  "language_info": {
   "codemirror_mode": {
    "name": "ipython",
    "version": 3
   },
   "file_extension": ".py",
   "mimetype": "text/x-python",
   "name": "python",
   "nbconvert_exporter": "python",
   "pygments_lexer": "ipython3",
   "version": "3.7.4"
  }
 },
 "nbformat": 4,
 "nbformat_minor": 2
}
