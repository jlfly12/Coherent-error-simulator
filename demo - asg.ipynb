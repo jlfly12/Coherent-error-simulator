{
 "cells": [
  {
   "cell_type": "code",
   "execution_count": 1,
   "metadata": {},
   "outputs": [],
   "source": [
    "# How to generate random arbitrary state\n",
    "from Circuit import Circuit\n",
    "from Circuit_ops import zero_state, apply, state_prob_plot\n",
    "from Circuit_ops import find_fidelities, plot_fidelities, save_fidelities, read_fidelities\n",
    "from Circuit_ops import find_prob, plot_prob\n",
    "from Circuit_ops import int_to_bit_str, bit_str_to_int\n",
    "from Error_dist import error_dist\n",
    "import time\n",
    "from numpy import *\n",
    "import numpy as np\n",
    "from numpy import linalg as LA \n",
    "# import cupy as cp\n",
    "import matplotlib.pyplot as plt"
   ]
  },
  {
   "cell_type": "code",
   "execution_count": 2,
   "metadata": {
    "scrolled": false
   },
   "outputs": [
    {
     "name": "stdout",
     "output_type": "stream",
     "text": [
      "State amplitudes, phases, and required rotation angles\n",
      "[0.88741867 0.46096431] [2.91690777 1.98728895]\n",
      "[0.6126332419579062] [0.9296188230789111]\n",
      "Equalized state: [-0.54558083+0.44982391j -0.54558083+0.44982391j]\n"
     ]
    }
   ],
   "source": [
    "N = 5\n",
    "\n",
    "# Generate random amplitude vector (normalized) and phase vector (0 to 2 pi):\n",
    "def random_state(N):\n",
    "    \n",
    "    a = random.rand(2 ** N) \n",
    "    p = random.rand(2 ** N)\n",
    "    \n",
    "    return a / sqrt(sum(a ** 2)), 2 * pi * p\n",
    "\n",
    "# Show state vector given amplitude and phase vector\n",
    "def get_state(a, p):\n",
    "    return a * exp(1j * p)\n",
    "\n",
    "# Find alpha angles that removes relative phases\n",
    "def find_phase_alphas(p, N):\n",
    "\n",
    "    p1 = p.copy()\n",
    "\n",
    "    alpha = []\n",
    "    \n",
    "    for i in arange(N-1, 0, -1):\n",
    "        \n",
    "        p1 = p1.reshape([2 ** i, 2])\n",
    "        \n",
    "        p2 = zeros([2 ** i])\n",
    "        p2 = average(p1, axis=1)\n",
    "\n",
    "        p1 = p1.swapaxes(0, 1)\n",
    "        alpha.append(p1[0] - p1[1])\n",
    "        \n",
    "        p1 = p2\n",
    "    \n",
    "    # Last step\n",
    "    alpha.append(p1[0] - p1[1])\n",
    "    \n",
    "    return alpha\n",
    "\n",
    "# Find alpha angles that equalizes amplitudes\n",
    "def find_amp_alphas(a, N):\n",
    "\n",
    "    a1 = a.copy()\n",
    "\n",
    "    alpha = []\n",
    "    \n",
    "    for i in arange(N-1, 0, -1):\n",
    "        a1 = a1.reshape([2 ** i, 2]).swapaxes(0,1)\n",
    "        a2 = zeros([2 ** i])\n",
    "        \n",
    "        a_sqrt = sqrt(0.5 * (a1[0]**2 + a1[1]**2))\n",
    "    \n",
    "        # Do we have to worry about division by zero?\n",
    "        alpha.append(pi/2 - 2 * arctan(a1[1] / a1[0]))\n",
    "        \n",
    "        a1 = a_sqrt\n",
    "    \n",
    "    # Last step\n",
    "    alpha.append(pi/2 - 2 * arctan(a1[1] / a1[0]))\n",
    "    \n",
    "    return alpha\n",
    "\n",
    "# Convert alpha's to theta's\n",
    "def angle_conversion(alphas, N):\n",
    "    \n",
    "    thetas = []\n",
    "    \n",
    "    for K in arange(N - 1, 0, -1):\n",
    "        alpha_group = alphas[N - 1 - K]\n",
    "        \n",
    "        T = zeros([2 ** K, 2 ** K])\n",
    "        \n",
    "        for i in range(2 ** K):\n",
    "            for j in range(2 ** K):\n",
    "                # See M. Mottonen et al eq (3)\n",
    "                T[i][j] = (-1) ** (dot(int_to_bit_str(j, K), int_to_bit_str(i^(i>>1), K)))\n",
    "        \n",
    "        theta_group = (matmul(T / 2 ** K, alpha_group)) % (2 * pi)\n",
    "        thetas.append(theta_group)\n",
    "    \n",
    "    thetas.append(alphas[N - 1])\n",
    "    \n",
    "    return thetas\n",
    "\n",
    "# Build circuit\n",
    "def ucr_gate_sequence(phase_thetas, amp_thetas, N):\n",
    "    gates = []\n",
    "\n",
    "    # Step 1: UCR about Z-axis for removing relative phase\n",
    "    for k in arange(N - 1, 0, -1):\n",
    "        # ucr stands for uniformly controlled rotation\n",
    "        ucr = [0] * 2 ** (k + 1)\n",
    "        for i in range(1, k):\n",
    "            for j in arange(2 ** i - 1, 2 ** (k + 1), 2 ** (i + 1)):\n",
    "                ucr[j] = ['CNOT', [k - i, k], None, None]\n",
    "\n",
    "        ucr[2 ** k - 1] = ['CNOT', [0, k], None, None]\n",
    "        ucr[2 ** (k + 1) - 1] = ['CNOT', [0, k], None, None]\n",
    "\n",
    "        # Append theta gates\n",
    "        for i in range(2 ** k):\n",
    "            ucr[2 * i] = ['Z', k, phase_thetas[N - 1 - k][i], None]\n",
    "\n",
    "        gates += ucr\n",
    "\n",
    "    gates.append(['Z', 0, phase_thetas[N - 1], None])\n",
    "\n",
    "    # Step 2: UCR about Y-axis for equalizing amplitude\n",
    "    for k in arange(N - 1, 0, -1):\n",
    "        ucr = [0] * 2 ** (k + 1)\n",
    "        for i in range(1, k):\n",
    "            for j in arange(2 ** i - 1, 2 ** (k + 1), 2 ** (i + 1)):\n",
    "                ucr[j] = ['CNOT', [k - i, k], None, None]\n",
    "\n",
    "        ucr[2 ** k - 1] = ['CNOT', [0, k], None, None]\n",
    "        ucr[2 ** (k + 1) - 1] = ['CNOT', [0, k], None, None]\n",
    "\n",
    "        # Append theta gates\n",
    "        for i in range(2 ** k):\n",
    "            ucr[2 * i] = ['Y', k, amp_thetas[N - 1 - k][i], None]\n",
    "\n",
    "        gates += ucr\n",
    "\n",
    "    gates.append(['Y', 0, amp_thetas[N - 1], None])\n",
    "\n",
    "    # Step 3: Remove superposition\n",
    "    for i in range(N):\n",
    "        gates.append(['Y', i, -pi/2, None])\n",
    "    \n",
    "    return gates\n",
    "\n",
    "# Generate random state\n",
    "N = 1\n",
    "a, p = random_state(N)\n",
    "\n",
    "amp_alphas = find_amp_alphas(a,N)\n",
    "phase_alphas = find_phase_alphas(p,N)\n",
    "\n",
    "print('State amplitudes, phases, and required rotation angles')\n",
    "print(a, p)\n",
    "print(amp_alphas, phase_alphas)\n",
    "\n",
    "# Check that the suggested rotation angles indeed equalize amplitudes and phases\n",
    "circ = Circuit(N)\n",
    "circ.init_state = get_state(a, p)\n",
    "\n",
    "circ.Z(0, phase_alphas[0])\n",
    "circ.Y(0, amp_alphas[0])\n",
    "\n",
    "final_state = circ.compute()\n",
    "final_state[0]\n",
    "\n",
    "print(f'Equalized state: {final_state[0]}')"
   ]
  },
  {
   "cell_type": "code",
   "execution_count": 3,
   "metadata": {},
   "outputs": [
    {
     "name": "stdout",
     "output_type": "stream",
     "text": [
      "Phase alphas: [array([ 0.27141351,  1.15933994, -2.9314264 ,  0.55631721]), array([ 4.22631112, -2.36513861]), -1.8286605491845567]\n",
      "Amplitude alphas: [array([-0.42851975, -0.02989039,  0.16486479,  1.23390143]), array([-0.07738243,  0.55065667]), -0.013466362719519287]\n",
      "Phase thetas: [array([6.04709637, 5.1892678 , 0.64995429, 0.95146566]), array([0.93058625, 3.29572487]), -1.8286605491845567]\n",
      "Amplitude thetas: [array([0.23508902, 5.91626881, 0.16760182, 5.81889122]), array([0.23663712, 5.96916576]), -0.013466362719519287]\n"
     ]
    }
   ],
   "source": [
    "N = 3\n",
    "a, p = random_state(N)\n",
    "\n",
    "phase_alphas = find_phase_alphas(p,N)\n",
    "amp_alphas = find_amp_alphas(a,N)\n",
    "\n",
    "print(f'Phase alphas: {phase_alphas}')\n",
    "print(f'Amplitude alphas: {amp_alphas}')\n",
    "\n",
    "phase_thetas = angle_conversion(phase_alphas, N)\n",
    "amp_thetas = angle_conversion(amp_alphas, N)\n",
    "\n",
    "print(f'Phase thetas: {phase_thetas}')\n",
    "print(f'Amplitude thetas: {amp_thetas}')"
   ]
  },
  {
   "cell_type": "code",
   "execution_count": 4,
   "metadata": {
    "scrolled": false
   },
   "outputs": [
    {
     "data": {
      "image/png": "[encoded data removed]",
      "text/plain": [
       "<Figure size 432x288 with 1 Axes>"
      ]
     },
     "metadata": {
      "needs_background": "light"
     },
     "output_type": "display_data"
    },
    {
     "data": {
      "image/png": "[encoded data removed]",
      "text/plain": [
       "<Figure size 432x288 with 1 Axes>"
      ]
     },
     "metadata": {
      "needs_background": "light"
     },
     "output_type": "display_data"
    },
    {
     "data": {
      "image/png": "[encoded data removed]",
      "text/plain": [
       "<Figure size 432x288 with 1 Axes>"
      ]
     },
     "metadata": {
      "needs_background": "light"
     },
     "output_type": "display_data"
    },
    {
     "data": {
      "image/png": "[encoded data removed]",
      "text/plain": [
       "<Figure size 432x288 with 1 Axes>"
      ]
     },
     "metadata": {
      "needs_background": "light"
     },
     "output_type": "display_data"
    },
    {
     "data": {
      "image/png": "[encoded data removed]",
      "text/plain": [
       "<Figure size 432x288 with 1 Axes>"
      ]
     },
     "metadata": {
      "needs_background": "light"
     },
     "output_type": "display_data"
    },
    {
     "data": {
      "image/png": "[encoded data removed]",
      "text/plain": [
       "<Figure size 432x288 with 1 Axes>"
      ]
     },
     "metadata": {
      "needs_background": "light"
     },
     "output_type": "display_data"
    }
   ],
   "source": [
    "# Build circuit that equalizes phase and then amplitude for a random state\n",
    "\n",
    "N = 6\n",
    "reps = 3\n",
    "\n",
    "def random_asg_angles(N):\n",
    "    \n",
    "    a, p = random_state(N)\n",
    "    \n",
    "    phase_alphas = find_phase_alphas(p, N)\n",
    "    amp_alphas = find_amp_alphas(a, N)\n",
    "    \n",
    "    phase_thetas = angle_conversion(phase_alphas, N)\n",
    "    amp_thetas = angle_conversion(amp_alphas, N)\n",
    "    \n",
    "    return a, p, amp_thetas, phase_thetas\n",
    "\n",
    "def reverse_circuit(a, p, amp_thetas, phase_thetas, N):\n",
    "    # Create circuit and input gates\n",
    "    circ = Circuit(N)\n",
    "    circ.Z_is_native = True\n",
    "    circ.init_state = get_state(a, p)\n",
    "    \n",
    "    # Input gates\n",
    "    circ.ideal_gates = ucr_gate_sequence(phase_thetas, amp_thetas, N)\n",
    "    circ.runs = 2\n",
    "    final_states = circ.compute()\n",
    "    \n",
    "    # Check state probability\n",
    "    state_prob_plot(circ.init_state, title=\"Initial state prob\")\n",
    "    state_prob_plot(final_states[0], title=\"Final state prob\")\n",
    "    \n",
    "    return final_states\n",
    "\n",
    "for i in range(reps):\n",
    "    a, p, amp_thetas, phase_thetas = random_asg_angles(N)\n",
    "    final_states = reverse_circuit(a, p, amp_thetas, phase_thetas, N)"
   ]
  },
  {
   "cell_type": "code",
   "execution_count": 5,
   "metadata": {},
   "outputs": [
    {
     "data": {
      "image/png": "[encoded data removed]",
      "text/plain": [
       "<Figure size 432x288 with 1 Axes>"
      ]
     },
     "metadata": {
      "needs_background": "light"
     },
     "output_type": "display_data"
    },
    {
     "data": {
      "image/png": "[encoded data removed]",
      "text/plain": [
       "<Figure size 432x288 with 1 Axes>"
      ]
     },
     "metadata": {
      "needs_background": "light"
     },
     "output_type": "display_data"
    },
    {
     "name": "stdout",
     "output_type": "stream",
     "text": [
      "Fidelity = 0.5598994613038466\n"
     ]
    },
    {
     "data": {
      "image/png": "[encoded data removed]",
      "text/plain": [
       "<Figure size 432x288 with 1 Axes>"
      ]
     },
     "metadata": {
      "needs_background": "light"
     },
     "output_type": "display_data"
    },
    {
     "data": {
      "image/png": "[encoded data removed]",
      "text/plain": [
       "<Figure size 432x288 with 1 Axes>"
      ]
     },
     "metadata": {
      "needs_background": "light"
     },
     "output_type": "display_data"
    },
    {
     "name": "stdout",
     "output_type": "stream",
     "text": [
      "Fidelity = 0.5936379667171181\n"
     ]
    },
    {
     "data": {
      "image/png": "[encoded data removed]",
      "text/plain": [
       "<Figure size 432x288 with 1 Axes>"
      ]
     },
     "metadata": {
      "needs_background": "light"
     },
     "output_type": "display_data"
    },
    {
     "data": {
      "image/png": "[encoded data removed]",
      "text/plain": [
       "<Figure size 432x288 with 1 Axes>"
      ]
     },
     "metadata": {
      "needs_background": "light"
     },
     "output_type": "display_data"
    },
    {
     "name": "stdout",
     "output_type": "stream",
     "text": [
      "Fidelity = 0.5432953043395787\n"
     ]
    }
   ],
   "source": [
    "# Reverse circuit will generate specific state from zero state\n",
    "N = 9\n",
    "err = 0.03\n",
    "reps = 3\n",
    "\n",
    "def asg_circuit(a, p, amp_thetas, phase_thetas, N):\n",
    "\n",
    "    circ = Circuit(N)\n",
    "    circ.Z_is_native = True\n",
    "    circ.init_state = zero_state(N)\n",
    "\n",
    "    gates = ucr_gate_sequence(phase_thetas, amp_thetas, N)\n",
    "    gates.reverse()\n",
    "    for gate in gates:\n",
    "        if gate[2] != None:\n",
    "            # Optional gate error\n",
    "            gate[2] *= -1 + err * error_dist(1)\n",
    "    \n",
    "    circ.ideal_gates = gates\n",
    "    circ.runs = 2\n",
    "    final_states = circ.compute()\n",
    "    \n",
    "    # Check state probability\n",
    "    ideal_final_state = get_state(a, p)\n",
    "    state_prob_plot(ideal_final_state, 'Ideal output state probabilities')\n",
    "    state_prob_plot(final_states[0], f'Final state probabilities (err_max = {err * 100}%)')\n",
    "    print(f'Fidelity = {find_fidelities(final_states, ideal_final_state)[0]}')\n",
    "    \n",
    "    return final_states\n",
    "\n",
    "for i in range(reps):\n",
    "    a, p, amp_thetas, phase_thetas = random_asg_angles(N)\n",
    "    final_states = asg_circuit(a, p, amp_thetas, phase_thetas, N)"
   ]
  },
  {
   "cell_type": "code",
   "execution_count": 6,
   "metadata": {},
   "outputs": [],
   "source": [
    "# Other problems\n",
    "# Less theta's than necessary (not fully linearly independent alphas) --> \"depth of entanglement?\"\n",
    "# How to evenly spread thetas? (randomly mod 2 * pi alphas)\n",
    "# Gate reverse: why does not multiplying -1 not make a difference?"
   ]
  },
  {
   "cell_type": "code",
   "execution_count": 7,
   "metadata": {},
   "outputs": [],
   "source": [
    "# Reference for parallel execution\n",
    "\n",
    "# # Write down circuit\n",
    "# def parallel_circ(sim_runs=1, err=[0,0,0], fixed_err=[0,0,0]):\n",
    "#     # Initialize simple circuit\n",
    "#     circ = stab_meas_circ([0,0,0,0,0,0])\n",
    "    \n",
    "#     # Initialize native and noisy gates\n",
    "#     circ.compute()\n",
    "    \n",
    "#     # Create new circuit with custom gates\n",
    "#     circ.init_state = zero_state(N)\n",
    "#     circ.runs = 64 * sim_runs\n",
    "\n",
    "#     # Edit noisy gates\n",
    "#     for i in range(0, 6):\n",
    "#         gate_angles = array([])\n",
    "        \n",
    "#         for k in range(sim_runs):\n",
    "#             for j in range(64):\n",
    "#                 gate_angles = concatenate((gate_angles, (pi / 2) * (-1) ** int_to_bit_str(j, N-1)[i] * (1 + err[0] * error_dist(1)))) \n",
    "#         circ.noisy_gates[i][2][0] = gate_angles\n",
    "#         circ.noisy_gates[i][3][0] = pi / 2 * (1 + err[1] * error_dist(64 * sim_runs))\n",
    "\n",
    "#     for i in range(6, 12):\n",
    "#         # Fixed errors and time-dependent errors\n",
    "#         circ.noisy_gates[i][2][0] = - pi / 2 \\\n",
    "#                                     * (1 + fixed_err[2] * repeat(error_dist(sim_runs), 64))  \\\n",
    "#                                     * (1 + err[2] * error_dist(64 * sim_runs))                  \n",
    "        \n",
    "# #         circ.noisy_gates[i][3] = [pi / 2 * err[1] * error_dist(64 * runs), \n",
    "# #                                     pi / 2 * err[1] * error_dist(64 * runs)]\n",
    "#         circ.noisy_gates[i][3] = [pi / 2 * err[1] * error_dist(64 * sim_runs)\n",
    "#                                   + pi / 2 * fixed_err[1] * repeat(error_dist(sim_runs), 64), \n",
    "#                                     pi / 2 * err[1] * error_dist(64 * sim_runs)\n",
    "#                                   + pi / 2 * fixed_err[1] * repeat(error_dist(sim_runs), 64)]\n",
    "\n",
    "#     for i in range(12, 18):\n",
    "#         circ.noisy_gates[i][2][0] = - pi / 2 * (1 + err[0] * error_dist(64 * sim_runs))\n",
    "#         circ.noisy_gates[i][3][0] = pi / 2 * (1 + err[1] * error_dist(64 * sim_runs))\n",
    "\n",
    "#     return circ\n",
    "\n",
    "# def run_parallel_circ(sim_runs, err, fixed_err):\n",
    "# #     start = time.time()\n",
    "    \n",
    "#     circ0 = parallel_circ()\n",
    "#     ideal_states = circ0.compute(compile_gates=False)\n",
    "    \n",
    "#     circ1 = parallel_circ(sim_runs, err, fixed_err)\n",
    "#     final_states = circ1.compute(compile_gates=False)\n",
    "\n",
    "# #     print(f\"Time elapsed = {time.time() - start}\")\n",
    "    \n",
    "#     return final_states, ideal_states, circ1\n",
    "\n",
    "# def fid_dist(final_states, ideal_states, title='', plot=True, analyze=False):\n",
    "    \n",
    "#     results = []\n",
    "    \n",
    "#     for i in range(2 ** (N - 1)):\n",
    "#         # -- Getting the correct ancilla --\n",
    "#         measured_qubits = [6]\n",
    "        \n",
    "#         sub_state = zero_state(1) * 0\n",
    "#         index = (1 + sum(int_to_bit_str(i, N-1))) % 2\n",
    "#         sub_state[index] = 1\n",
    "        \n",
    "#         probs = find_prob(measured_qubits, sub_state, final_states[i::64])\n",
    "#         results.append(probs)\n",
    "    \n",
    "#     results = swapaxes(array(results), 0, 1)\n",
    "        \n",
    "    \n",
    "#     if plot:\n",
    "#         plt.figure(figsize=(12,6))\n",
    "#         plt.title(f\"Probability of getting correct ancilla qubit VS input bit string\" if title=='' else title)\n",
    "#         plt.plot(results)\n",
    "#     if analyze:\n",
    "#         stat_analysis(results)\n",
    "    \n",
    "#     return results"
   ]
  },
  {
   "cell_type": "code",
   "execution_count": null,
   "metadata": {},
   "outputs": [],
   "source": []
  }
 ],
 "metadata": {
  "kernelspec": {
   "display_name": "Python 3",
   "language": "python",
   "name": "python3"
  },
  "language_info": {
   "codemirror_mode": {
    "name": "ipython",
    "version": 3
   },
   "file_extension": ".py",
   "mimetype": "text/x-python",
   "name": "python",
   "nbconvert_exporter": "python",
   "pygments_lexer": "ipython3",
   "version": "3.7.3"
  }
 },
 "nbformat": 4,
 "nbformat_minor": 2
}
