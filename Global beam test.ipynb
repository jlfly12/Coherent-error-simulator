{
 "cells": [
  {
   "cell_type": "markdown",
   "metadata": {},
   "source": [
    "### May be possible to entangle all ions with global pulse with multiple tones."
   ]
  },
  {
   "cell_type": "code",
   "execution_count": 1,
   "metadata": {},
   "outputs": [],
   "source": [
    "from numpy import *\n",
    "from scipy.optimize import curve_fit\n",
    "import matplotlib.pyplot as plt\n",
    "from Error_dist import func_str"
   ]
  },
  {
   "cell_type": "code",
   "execution_count": 111,
   "metadata": {},
   "outputs": [
    {
     "name": "stdout",
     "output_type": "stream",
     "text": [
      "Function: - log(a / x ** 0.5 + b / x ** 0.7 + c / x ** 1 + d / x ** 1.5 + e / x ** 2)\n"
     ]
    },
    {
     "name": "stderr",
     "output_type": "stream",
     "text": [
      "/anaconda3/lib/python3.7/site-packages/ipykernel_launcher.py:13: RuntimeWarning: invalid value encountered in log\n",
      "  del sys.path[0]\n"
     ]
    },
    {
     "data": {
      "image/png": "[encoded data removed]",
      "text/plain": [
       "<Figure size 432x288 with 1 Axes>"
      ]
     },
     "metadata": {
      "needs_background": "light"
     },
     "output_type": "display_data"
    },
    {
     "name": "stdout",
     "output_type": "stream",
     "text": [
      "Parameters: [ -3.73276651  12.85974648 -18.03505101  15.04548127  -5.76818411]\n"
     ]
    }
   ],
   "source": [
    "# 10-ion test\n",
    "\n",
    "N = 11\n",
    "\n",
    "x = arange(1, N)\n",
    "y = x\n",
    "\n",
    "def func(x, a, b, c, d, e):\n",
    "    return (a / x ** 0.5 + b / x ** 0.7 + c / x ** 1 + d / x ** 1.5 + e / x ** 2)\n",
    "\n",
    "# Assume entangling strengt\\ scales as 1 / d ^ r where 0.5 < r < 3\n",
    "def func_log(x, a, b, c, d, e):\n",
    "    return - log(a / x ** 0.5 + b / x ** 0.7 + c / x ** 1 + d / x ** 1.5 + e / x ** 2)\n",
    "\n",
    "popt, pcov = curve_fit(func_log, x, y)\n",
    "\n",
    "x_cont = linspace(1, N, 1000)\n",
    "y_cont = func_log(x_cont, *popt)\n",
    "\n",
    "print(f'Function: {func_str(func_log)}')\n",
    "\n",
    "plt.plot(x, y, 'bo')\n",
    "plt.plot(x_cont, y_cont, 'r')\n",
    "plt.show()\n",
    "\n",
    "print(f\"Parameters: {popt}\")"
   ]
  },
  {
   "cell_type": "code",
   "execution_count": 131,
   "metadata": {},
   "outputs": [
    {
     "name": "stdout",
     "output_type": "stream",
     "text": [
      "Function: (a / x ** 0.5 + b / x ** 0.7 + c / x ** 1 + d / x ** 1.5 + e / x ** 2)\n"
     ]
    },
    {
     "data": {
      "image/png": "[encoded data removed]",
      "text/plain": [
       "<Figure size 432x288 with 1 Axes>"
      ]
     },
     "metadata": {
      "needs_background": "light"
     },
     "output_type": "display_data"
    },
    {
     "name": "stdout",
     "output_type": "stream",
     "text": [
      "Parameters (normalized by 0.0002131361982161863): [  1.          -4.61750126  10.22705205 -19.6067829   20.55755071]\n"
     ]
    }
   ],
   "source": [
    "def func(x, a, b, c, d, e):\n",
    "    return (a / x ** 0.5 + b / x ** 0.7 + c / x ** 1 + d / x ** 1.5 + e / x ** 2)\n",
    "\n",
    "\n",
    "# Assume entangling strengt\\ scales as 1 / d ^ r where 0.5 < r < 3\n",
    "def func_log(x, a, b, c, d, e):\n",
    "    return - log(func(x, a, b, c, d, e))\n",
    "\n",
    "N_start = 21\n",
    "N = 30\n",
    "\n",
    "x = arange(N_start, N)\n",
    "y = exp(-x)\n",
    "\n",
    "\n",
    "popt, pcov = curve_fit(func, x, y)\n",
    "\n",
    "\n",
    "x_disc = arange(25, N+2)\n",
    "y_disc = exp(-x_disc)\n",
    "L = len(x_disc)\n",
    "\n",
    "x_cont = linspace(25, N+3, 1000)\n",
    "y_cont = func(x_cont, *popt)\n",
    "\n",
    "x = arange(1, N)\n",
    "y = exp(-x)\n",
    "\n",
    "print(f'Function: {func_str(func)}')\n",
    "\n",
    "plt.plot(x_disc, y_disc, 'bo')\n",
    "plt.plot(x_cont, y_cont, 'r')\n",
    "# plt.ylim([y_disc[L-1] * 0.9, y_disc[0] * 1.1])\n",
    "# plt.ylim([y_disc[L-1] * 0.9, y_disc[0] * 0.01])\n",
    "\n",
    "plt.show()\n",
    "\n",
    "print(f\"Parameters (normalized by {popt[0]}): {popt / popt[0]}\")\n",
    "# print(f\"Covariance: {pcov}\")\n",
    "\n"
   ]
  },
  {
   "cell_type": "code",
   "execution_count": null,
   "metadata": {},
   "outputs": [],
   "source": [
    "N = 20\n",
    "x = linspace(1, N, 300)\n",
    "plt.plot(x, func1(x, *popt))\n",
    "x_dots = arange(1, N)\n",
    "plt.plot(x_dots, exp(-x_dots), 'ro')\n",
    "plt.ylim([-0.01, 0.5])\n"
   ]
  }
 ],
 "metadata": {
  "kernelspec": {
   "display_name": "Python 3",
   "language": "python",
   "name": "python3"
  },
  "language_info": {
   "codemirror_mode": {
    "name": "ipython",
    "version": 3
   },
   "file_extension": ".py",
   "mimetype": "text/x-python",
   "name": "python",
   "nbconvert_exporter": "python",
   "pygments_lexer": "ipython3",
   "version": "3.7.3"
  }
 },
 "nbformat": 4,
 "nbformat_minor": 2
}
