{
 "cells": [
  {
   "cell_type": "code",
   "execution_count": 1,
   "metadata": {},
   "outputs": [
    {
     "name": "stdout",
     "output_type": "stream",
     "text": [
      "Average fidelity = 0.9708677059876152\n"
     ]
    }
   ],
   "source": [
    "# Find potential bugs in program\n",
    "from Circuit import Circuit\n",
    "from Circuit_ops import zero_state, apply, state_prob_plot\n",
    "from Circuit_ops import find_fidelities, plot_fidelities, save_fidelities, read_fidelities\n",
    "from Circuit_ops import find_prob, plot_prob\n",
    "from Circuit_ops import int_to_bit_str, bit_str_to_int\n",
    "import time\n",
    "from numpy import *\n",
    "import matplotlib.pyplot as plt\n",
    "\n",
    "# Define stabilizer measurement circuit\n",
    "def dummy_circ(reps, N):\n",
    "    circ = Circuit(N)\n",
    "    \n",
    "    for i in range(reps):\n",
    "        circ.XX(0, i+1, pi/2)\n",
    "        \n",
    "    return circ\n",
    "\n",
    "N = 3\n",
    "circ = dummy_circ(1, N)\n",
    "\n",
    "ideal_state = circ.compute()[0]\n",
    "\n",
    "circ.runs = 10000\n",
    "circ.errors = [0.1, 0.1, 0.6]\n",
    "\n",
    "final_states = circ.compute()\n",
    "fidelities = find_fidelities(final_states, ideal_state)\n",
    "\n",
    "print(f\"Average fidelity = {sum(fidelities) / circ.runs}\")"
   ]
  },
  {
   "cell_type": "code",
   "execution_count": 2,
   "metadata": {},
   "outputs": [
    {
     "name": "stdout",
     "output_type": "stream",
     "text": [
      "Average fidelity = 0.9835898375438392\n"
     ]
    }
   ],
   "source": [
    "# Define stabilizer measurement circuit\n",
    "\n",
    "N = 3\n",
    "circ = dummy_circ(2, N)\n",
    "\n",
    "ideal_state = circ.compute()[0]\n",
    "\n",
    "circ.runs = 10000\n",
    "circ.errors = [0.1, 0.1, 0.3]\n",
    "\n",
    "final_states = circ.compute()\n",
    "fidelities = find_fidelities(final_states, ideal_state)\n",
    "\n",
    "print(f\"Average fidelity = {sum(fidelities) / circ.runs}\")"
   ]
  },
  {
   "cell_type": "code",
   "execution_count": 3,
   "metadata": {},
   "outputs": [
    {
     "name": "stdout",
     "output_type": "stream",
     "text": [
      "One 2-qubit pi/2 rotation (maximal entanglement)\n",
      "Max. over-rotation VS Average fidelity\n",
      "0 \t 1.0\n",
      "0.1 \t 0.9992047457365422\n",
      "0.2 \t 0.9967986209039267\n",
      "0.3 \t 0.9925614992746971\n",
      "0.4 \t 0.9874933387438903\n",
      "0.5 \t 0.9802126299771213\n",
      "0.62 \t 0.9701444440986076\n",
      "0.8 \t 0.9480551559640977\n",
      "1 \t 0.9223137282925334\n"
     ]
    }
   ],
   "source": [
    "N = 2\n",
    "runs = 3000\n",
    "\n",
    "err_list = [0, 0.1, 0.2, 0.3, 0.4, 0.5, 0.62, 0.8, 1]\n",
    "\n",
    "print(f\"One 2-qubit pi/2 rotation (maximal entanglement)\")\n",
    "print(\"Max. over-rotation VS Average fidelity\")\n",
    "for err in err_list:\n",
    "    circ = dummy_circ(1, N)\n",
    "    ideal_state = circ.compute()[0]\n",
    "    \n",
    "    circ.runs = runs\n",
    "    circ.errors = [0, 0, err]\n",
    "    final_states = circ.compute()\n",
    "    fidelities = find_fidelities(final_states, ideal_state)\n",
    "    avg_fid = sum(fidelities) / runs\n",
    "    print(f\"{err} \\t {avg_fid}\")"
   ]
  },
  {
   "cell_type": "code",
   "execution_count": 4,
   "metadata": {},
   "outputs": [
    {
     "name": "stdout",
     "output_type": "stream",
     "text": [
      "Six successive 2-qubit pi/2 rotations\n",
      "Max. over-rotation VS Average fidelity\n",
      "0 \t 1.0\n",
      "0.1 \t 0.9951631588229526\n",
      "0.2 \t 0.9811078049814017\n",
      "0.3 \t 0.9576932502344537\n",
      "0.4 \t 0.9258600835295695\n",
      "0.5 \t 0.8879469823280497\n",
      "0.62 \t 0.8300100014986481\n",
      "0.8 \t 0.7337207137881196\n",
      "1 \t 0.6200505346033401\n"
     ]
    }
   ],
   "source": [
    "N = 7\n",
    "runs = 3000\n",
    "\n",
    "err_list = [0, 0.1, 0.2, 0.3, 0.4, 0.5, 0.62, 0.8, 1]\n",
    "\n",
    "print(f\"Six successive 2-qubit pi/2 rotations\")\n",
    "print(\"Max. over-rotation VS Average fidelity\")\n",
    "for err in err_list:\n",
    "    circ = dummy_circ(N-1, N)\n",
    "    ideal_state = circ.compute()[0]\n",
    "    \n",
    "    circ.runs = runs\n",
    "    circ.errors = [0, 0, err]\n",
    "    final_states = circ.compute()\n",
    "    fidelities = find_fidelities(final_states, ideal_state)\n",
    "    avg_fid = sum(fidelities) / runs\n",
    "    print(f\"{err} \\t {avg_fid}\")"
   ]
  },
  {
   "cell_type": "code",
   "execution_count": null,
   "metadata": {},
   "outputs": [],
   "source": []
  }
 ],
 "metadata": {
  "kernelspec": {
   "display_name": "Python 3",
   "language": "python",
   "name": "python3"
  },
  "language_info": {
   "codemirror_mode": {
    "name": "ipython",
    "version": 3
   },
   "file_extension": ".py",
   "mimetype": "text/x-python",
   "name": "python",
   "nbconvert_exporter": "python",
   "pygments_lexer": "ipython3",
   "version": "3.7.3"
  }
 },
 "nbformat": 4,
 "nbformat_minor": 2
}
